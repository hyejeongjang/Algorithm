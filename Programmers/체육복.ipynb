{
 "cells": [
  {
   "cell_type": "markdown",
   "metadata": {},
   "source": [
    "[체육복](https://programmers.co.kr/learn/courses/30/lessons/42862)"
   ]
  },
  {
   "cell_type": "code",
   "execution_count": 90,
   "metadata": {},
   "outputs": [],
   "source": [
    "n=5\n",
    "lost=[2,3]\n",
    "reserve=[3,4]"
   ]
  },
  {
   "cell_type": "code",
   "execution_count": 91,
   "metadata": {},
   "outputs": [
    {
     "data": {
      "text/plain": [
       "[2]"
      ]
     },
     "execution_count": 91,
     "metadata": {},
     "output_type": "execute_result"
    }
   ],
   "source": [
    "only_lost=list(set(lost)-set(reserve))\n",
    "only_reserve=set(reserve)-set(lost)\n",
    "only_lost"
   ]
  },
  {
   "cell_type": "code",
   "execution_count": 92,
   "metadata": {},
   "outputs": [],
   "source": [
    "def solution(n, lost, reserve):\n",
    "    answer = 0\n",
    "    \n",
    "    only_lost=list(set(lost)-set(reserve))\n",
    "    only_reserve=list(set(reserve)-set(lost))\n",
    "    answer=n-len(only_lost)\n",
    "    \n",
    "    for i in only_lost:\n",
    "        for j in range(len(only_reserve)):\n",
    "            #if(i==reserve[j]):\n",
    "                #reserve.pop(j)\n",
    "                #answer=answer+1\n",
    "                #break\n",
    "            if(i-1==only_reserve[j] or i+1==only_reserve[j]):\n",
    "                only_reserve.pop(j)\n",
    "                answer=answer+1\n",
    "                break\n",
    "    return answer"
   ]
  },
  {
   "cell_type": "code",
   "execution_count": 93,
   "metadata": {},
   "outputs": [
    {
     "data": {
      "text/plain": [
       "4"
      ]
     },
     "execution_count": 93,
     "metadata": {},
     "output_type": "execute_result"
    }
   ],
   "source": [
    "ans=solution(n, lost, reserve)\n",
    "ans"
   ]
  },
  {
   "cell_type": "markdown",
   "metadata": {},
   "source": [
    "### 12케이스는 통과지만 나머지 불통"
   ]
  },
  {
   "cell_type": "code",
   "execution_count": 53,
   "metadata": {},
   "outputs": [],
   "source": [
    "def solution(n, lost, reserve):\n",
    "    answer = 0\n",
    "    answer=n-len(lost)\n",
    "    if (list(set(lost).intersection(reserve))):\n",
    "        for i in range(len(lost)):\n",
    "            for j in range(len(reserve)):\n",
    "                if(lost[i]==reserve[j]):\n",
    "                    reserve.pop(j)\n",
    "                    lost.pop(i)\n",
    "                    answer=answer+1\n",
    "                    break\n",
    "    for i in lost:\n",
    "        for j in range(len(reserve)):\n",
    "            if(i==reserve[j]):\n",
    "                reserve.pop(j)\n",
    "                answer=answer+1\n",
    "                break\n",
    "            if(i-1==reserve[j] or i+1==reserve[j]):\n",
    "                reserve.pop(j)\n",
    "                answer=answer+1\n",
    "                break\n",
    "    return answer"
   ]
  }
 ],
 "metadata": {
  "kernelspec": {
   "display_name": "Python 3",
   "language": "python",
   "name": "python3"
  },
  "language_info": {
   "codemirror_mode": {
    "name": "ipython",
    "version": 3
   },
   "file_extension": ".py",
   "mimetype": "text/x-python",
   "name": "python",
   "nbconvert_exporter": "python",
   "pygments_lexer": "ipython3",
   "version": "3.7.6"
  }
 },
 "nbformat": 4,
 "nbformat_minor": 2
}
